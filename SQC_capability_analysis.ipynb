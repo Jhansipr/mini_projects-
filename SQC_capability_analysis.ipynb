{
 "cells": [
  {
   "cell_type": "markdown",
   "id": "5c02851a",
   "metadata": {},
   "source": [
    "### The diameter of the pilot on an output shaft is a special characteristic. The upper and lower specification limits for the diameter are USL= 25 and LSL= -25, respectively, when the measured quantity is the number of microns from nominal. A previous study verified that the measurement system utilized introduces very little measurement error. As part of a PPAP demonstration study, 300 units are produced. The data were classified into 25 subgroups of 4 observations each by measuring the diameter of the first four units in each batch of twelve units. Table below give the 100 recorded data observations.\n",
    "\n",
    "Conclude your finding about the process capability using:\n",
    "\n",
    "a) Histogram plot\n",
    "\n",
    "b) Probability plot\n",
    "\n",
    "c) 𝐶𝑝 and 𝐶𝑝𝑘"
   ]
  },
  {
   "cell_type": "code",
   "execution_count": 36,
   "id": "93826946",
   "metadata": {},
   "outputs": [],
   "source": [
    "import pandas as pd\n",
    "import numpy as np\n",
    "import matplotlib.pyplot as plt\n",
    "from scipy import stats \n",
    "import seaborn as sns"
   ]
  },
  {
   "cell_type": "code",
   "execution_count": 37,
   "id": "80f6ed97",
   "metadata": {},
   "outputs": [
    {
     "data": {
      "text/html": [
       "<div>\n",
       "<style scoped>\n",
       "    .dataframe tbody tr th:only-of-type {\n",
       "        vertical-align: middle;\n",
       "    }\n",
       "\n",
       "    .dataframe tbody tr th {\n",
       "        vertical-align: top;\n",
       "    }\n",
       "\n",
       "    .dataframe thead th {\n",
       "        text-align: right;\n",
       "    }\n",
       "</style>\n",
       "<table border=\"1\" class=\"dataframe\">\n",
       "  <thead>\n",
       "    <tr style=\"text-align: right;\">\n",
       "      <th></th>\n",
       "      <th>subgroup</th>\n",
       "      <th>1</th>\n",
       "      <th>2</th>\n",
       "      <th>3</th>\n",
       "      <th>4</th>\n",
       "      <th>Xi_bar</th>\n",
       "      <th>Ri</th>\n",
       "    </tr>\n",
       "  </thead>\n",
       "  <tbody>\n",
       "    <tr>\n",
       "      <th>0</th>\n",
       "      <td>1</td>\n",
       "      <td>-10</td>\n",
       "      <td>-6</td>\n",
       "      <td>0</td>\n",
       "      <td>0</td>\n",
       "      <td>-4.0</td>\n",
       "      <td>10</td>\n",
       "    </tr>\n",
       "    <tr>\n",
       "      <th>1</th>\n",
       "      <td>2</td>\n",
       "      <td>-14</td>\n",
       "      <td>-4</td>\n",
       "      <td>-6</td>\n",
       "      <td>4</td>\n",
       "      <td>-5.0</td>\n",
       "      <td>18</td>\n",
       "    </tr>\n",
       "    <tr>\n",
       "      <th>2</th>\n",
       "      <td>3</td>\n",
       "      <td>-2</td>\n",
       "      <td>12</td>\n",
       "      <td>-2</td>\n",
       "      <td>8</td>\n",
       "      <td>4.0</td>\n",
       "      <td>14</td>\n",
       "    </tr>\n",
       "    <tr>\n",
       "      <th>3</th>\n",
       "      <td>4</td>\n",
       "      <td>-4</td>\n",
       "      <td>-6</td>\n",
       "      <td>-6</td>\n",
       "      <td>-2</td>\n",
       "      <td>-4.5</td>\n",
       "      <td>4</td>\n",
       "    </tr>\n",
       "    <tr>\n",
       "      <th>4</th>\n",
       "      <td>5</td>\n",
       "      <td>12</td>\n",
       "      <td>6</td>\n",
       "      <td>2</td>\n",
       "      <td>2</td>\n",
       "      <td>5.5</td>\n",
       "      <td>10</td>\n",
       "    </tr>\n",
       "    <tr>\n",
       "      <th>5</th>\n",
       "      <td>6</td>\n",
       "      <td>0</td>\n",
       "      <td>0</td>\n",
       "      <td>-6</td>\n",
       "      <td>-8</td>\n",
       "      <td>-3.5</td>\n",
       "      <td>8</td>\n",
       "    </tr>\n",
       "    <tr>\n",
       "      <th>6</th>\n",
       "      <td>7</td>\n",
       "      <td>2</td>\n",
       "      <td>-6</td>\n",
       "      <td>8</td>\n",
       "      <td>-6</td>\n",
       "      <td>-0.5</td>\n",
       "      <td>14</td>\n",
       "    </tr>\n",
       "    <tr>\n",
       "      <th>7</th>\n",
       "      <td>8</td>\n",
       "      <td>0</td>\n",
       "      <td>6</td>\n",
       "      <td>4</td>\n",
       "      <td>8</td>\n",
       "      <td>4.5</td>\n",
       "      <td>8</td>\n",
       "    </tr>\n",
       "    <tr>\n",
       "      <th>8</th>\n",
       "      <td>9</td>\n",
       "      <td>2</td>\n",
       "      <td>4</td>\n",
       "      <td>6</td>\n",
       "      <td>8</td>\n",
       "      <td>5.0</td>\n",
       "      <td>6</td>\n",
       "    </tr>\n",
       "    <tr>\n",
       "      <th>9</th>\n",
       "      <td>10</td>\n",
       "      <td>-8</td>\n",
       "      <td>0</td>\n",
       "      <td>-4</td>\n",
       "      <td>2</td>\n",
       "      <td>-2.5</td>\n",
       "      <td>10</td>\n",
       "    </tr>\n",
       "    <tr>\n",
       "      <th>10</th>\n",
       "      <td>11</td>\n",
       "      <td>4</td>\n",
       "      <td>2</td>\n",
       "      <td>2</td>\n",
       "      <td>6</td>\n",
       "      <td>3.5</td>\n",
       "      <td>4</td>\n",
       "    </tr>\n",
       "    <tr>\n",
       "      <th>11</th>\n",
       "      <td>12</td>\n",
       "      <td>-8</td>\n",
       "      <td>4</td>\n",
       "      <td>-14</td>\n",
       "      <td>6</td>\n",
       "      <td>-3.0</td>\n",
       "      <td>20</td>\n",
       "    </tr>\n",
       "    <tr>\n",
       "      <th>12</th>\n",
       "      <td>13</td>\n",
       "      <td>-10</td>\n",
       "      <td>2</td>\n",
       "      <td>-10</td>\n",
       "      <td>4</td>\n",
       "      <td>-3.5</td>\n",
       "      <td>14</td>\n",
       "    </tr>\n",
       "    <tr>\n",
       "      <th>13</th>\n",
       "      <td>14</td>\n",
       "      <td>-8</td>\n",
       "      <td>2</td>\n",
       "      <td>-4</td>\n",
       "      <td>4</td>\n",
       "      <td>-1.5</td>\n",
       "      <td>12</td>\n",
       "    </tr>\n",
       "    <tr>\n",
       "      <th>14</th>\n",
       "      <td>15</td>\n",
       "      <td>6</td>\n",
       "      <td>16</td>\n",
       "      <td>10</td>\n",
       "      <td>18</td>\n",
       "      <td>12.5</td>\n",
       "      <td>12</td>\n",
       "    </tr>\n",
       "    <tr>\n",
       "      <th>15</th>\n",
       "      <td>16</td>\n",
       "      <td>2</td>\n",
       "      <td>2</td>\n",
       "      <td>0</td>\n",
       "      <td>2</td>\n",
       "      <td>1.5</td>\n",
       "      <td>2</td>\n",
       "    </tr>\n",
       "    <tr>\n",
       "      <th>16</th>\n",
       "      <td>17</td>\n",
       "      <td>12</td>\n",
       "      <td>6</td>\n",
       "      <td>0</td>\n",
       "      <td>2</td>\n",
       "      <td>5.0</td>\n",
       "      <td>12</td>\n",
       "    </tr>\n",
       "    <tr>\n",
       "      <th>17</th>\n",
       "      <td>18</td>\n",
       "      <td>2</td>\n",
       "      <td>2</td>\n",
       "      <td>0</td>\n",
       "      <td>-8</td>\n",
       "      <td>-1.0</td>\n",
       "      <td>10</td>\n",
       "    </tr>\n",
       "    <tr>\n",
       "      <th>18</th>\n",
       "      <td>19</td>\n",
       "      <td>-6</td>\n",
       "      <td>-4</td>\n",
       "      <td>2</td>\n",
       "      <td>0</td>\n",
       "      <td>-2.0</td>\n",
       "      <td>8</td>\n",
       "    </tr>\n",
       "    <tr>\n",
       "      <th>19</th>\n",
       "      <td>20</td>\n",
       "      <td>-2</td>\n",
       "      <td>4</td>\n",
       "      <td>0</td>\n",
       "      <td>4</td>\n",
       "      <td>1.5</td>\n",
       "      <td>6</td>\n",
       "    </tr>\n",
       "    <tr>\n",
       "      <th>20</th>\n",
       "      <td>21</td>\n",
       "      <td>2</td>\n",
       "      <td>4</td>\n",
       "      <td>2</td>\n",
       "      <td>6</td>\n",
       "      <td>3.5</td>\n",
       "      <td>4</td>\n",
       "    </tr>\n",
       "    <tr>\n",
       "      <th>21</th>\n",
       "      <td>22</td>\n",
       "      <td>0</td>\n",
       "      <td>4</td>\n",
       "      <td>2</td>\n",
       "      <td>4</td>\n",
       "      <td>2.5</td>\n",
       "      <td>4</td>\n",
       "    </tr>\n",
       "    <tr>\n",
       "      <th>22</th>\n",
       "      <td>23</td>\n",
       "      <td>-2</td>\n",
       "      <td>4</td>\n",
       "      <td>-2</td>\n",
       "      <td>4</td>\n",
       "      <td>1.0</td>\n",
       "      <td>6</td>\n",
       "    </tr>\n",
       "    <tr>\n",
       "      <th>23</th>\n",
       "      <td>24</td>\n",
       "      <td>-10</td>\n",
       "      <td>4</td>\n",
       "      <td>-12</td>\n",
       "      <td>4</td>\n",
       "      <td>-3.5</td>\n",
       "      <td>16</td>\n",
       "    </tr>\n",
       "    <tr>\n",
       "      <th>24</th>\n",
       "      <td>25</td>\n",
       "      <td>6</td>\n",
       "      <td>8</td>\n",
       "      <td>-4</td>\n",
       "      <td>2</td>\n",
       "      <td>3.0</td>\n",
       "      <td>12</td>\n",
       "    </tr>\n",
       "  </tbody>\n",
       "</table>\n",
       "</div>"
      ],
      "text/plain": [
       "    subgroup   1   2   3   4  Xi_bar  Ri\n",
       "0          1 -10  -6   0   0    -4.0  10\n",
       "1          2 -14  -4  -6   4    -5.0  18\n",
       "2          3  -2  12  -2   8     4.0  14\n",
       "3          4  -4  -6  -6  -2    -4.5   4\n",
       "4          5  12   6   2   2     5.5  10\n",
       "5          6   0   0  -6  -8    -3.5   8\n",
       "6          7   2  -6   8  -6    -0.5  14\n",
       "7          8   0   6   4   8     4.5   8\n",
       "8          9   2   4   6   8     5.0   6\n",
       "9         10  -8   0  -4   2    -2.5  10\n",
       "10        11   4   2   2   6     3.5   4\n",
       "11        12  -8   4 -14   6    -3.0  20\n",
       "12        13 -10   2 -10   4    -3.5  14\n",
       "13        14  -8   2  -4   4    -1.5  12\n",
       "14        15   6  16  10  18    12.5  12\n",
       "15        16   2   2   0   2     1.5   2\n",
       "16        17  12   6   0   2     5.0  12\n",
       "17        18   2   2   0  -8    -1.0  10\n",
       "18        19  -6  -4   2   0    -2.0   8\n",
       "19        20  -2   4   0   4     1.5   6\n",
       "20        21   2   4   2   6     3.5   4\n",
       "21        22   0   4   2   4     2.5   4\n",
       "22        23  -2   4  -2   4     1.0   6\n",
       "23        24 -10   4 -12   4    -3.5  16\n",
       "24        25   6   8  -4   2     3.0  12"
      ]
     },
     "execution_count": 37,
     "metadata": {},
     "output_type": "execute_result"
    }
   ],
   "source": [
    "df=pd.read_csv(\"C:\\\\Users\\\\Lenovo\\\\OneDrive\\\\Desktop\\\\SQC_lab\\\\lab4\\\\pilot_od.csv\")\n",
    "df"
   ]
  },
  {
   "cell_type": "code",
   "execution_count": 38,
   "id": "c4a154ee",
   "metadata": {},
   "outputs": [
    {
     "data": {
      "text/plain": [
       "0    -10\n",
       "1    -14\n",
       "2     -2\n",
       "3     -4\n",
       "4     12\n",
       "      ..\n",
       "95     6\n",
       "96     4\n",
       "97     4\n",
       "98     4\n",
       "99     2\n",
       "Length: 100, dtype: int64"
      ]
     },
     "execution_count": 38,
     "metadata": {},
     "output_type": "execute_result"
    }
   ],
   "source": [
    "### histogram plot\n",
    "\n",
    "hist_data = pd.concat([df.iloc[:,i] for i in range(1,5)],ignore_index=True)\n",
    "hist_data\n"
   ]
  },
  {
   "cell_type": "code",
   "execution_count": 39,
   "id": "476d17a1",
   "metadata": {},
   "outputs": [
    {
     "name": "stdout",
     "output_type": "stream",
     "text": [
      "Process USL 25\n",
      "Process LSL -25\n",
      "The mean of the process is 0.74\n",
      "Standard deviation is 6.114430687011065 \n",
      "Minimum value is -14\n",
      "Maximum value is 18\n"
     ]
    }
   ],
   "source": [
    "USL = 25\n",
    "LSL = -25\n",
    "mean = hist_data.mean()\n",
    "std = hist_data.std()\n",
    "max = hist_data.max()\n",
    "min = hist_data.min()\n",
    "\n",
    "print(f'Process USL {USL}\\nProcess LSL {LSL}')\n",
    "print(f'The mean of the process is {mean}\\nStandard deviation is {std} ')\n",
    "print(f'Minimum value is {min}\\nMaximum value is {max}')"
   ]
  },
  {
   "cell_type": "code",
   "execution_count": 40,
   "id": "ba6d882a",
   "metadata": {},
   "outputs": [
    {
     "data": {
      "image/png": "[encoded data removed]",
      "text/plain": [
       "<Figure size 720x432 with 1 Axes>"
      ]
     },
     "metadata": {
      "needs_background": "light"
     },
     "output_type": "display_data"
    }
   ],
   "source": [
    "### plot the distribution \n",
    "\n",
    "plt.figure(figsize=(10, 6))\n",
    "sns.kdeplot(hist_data, shade=True, color='green')\n",
    "plt.axvline(x=USL, c='red')\n",
    "plt.axvline(x=LSL, c='red')\n",
    "plt.axvline(x=mean, c='magenta')\n",
    "plt.show()"
   ]
  },
  {
   "cell_type": "markdown",
   "id": "878c0b4e",
   "metadata": {},
   "source": [
    "The process has been deviated from the mean"
   ]
  },
  {
   "cell_type": "code",
   "execution_count": 41,
   "id": "a13b04f0",
   "metadata": {},
   "outputs": [
    {
     "data": {
      "image/png": "[encoded data removed]",
      "text/plain": [
       "<Figure size 720x432 with 1 Axes>"
      ]
     },
     "metadata": {
      "needs_background": "light"
     },
     "output_type": "display_data"
    }
   ],
   "source": [
    "# Using the floor of K ---> 7 bins\n",
    "plt.figure(figsize=(10, 6))\n",
    "sns.histplot(hist_data)\n",
    "plt.axvline(x=USL, c='red')\n",
    "plt.axvline(x=LSL, c='red')\n",
    "plt.axvline(x=mean, c='magenta')\n",
    "plt.show()"
   ]
  },
  {
   "cell_type": "markdown",
   "id": "09dcdca2",
   "metadata": {},
   "source": [
    "The process is not normally distributed\n",
    "\n",
    "Probability plot"
   ]
  },
  {
   "cell_type": "code",
   "execution_count": 42,
   "id": "b3723973",
   "metadata": {},
   "outputs": [
    {
     "data": {
      "image/png": "[encoded data removed]",
      "text/plain": [
       "<Figure size 720x432 with 1 Axes>"
      ]
     },
     "metadata": {
      "needs_background": "light"
     },
     "output_type": "display_data"
    }
   ],
   "source": [
    "# Sorting the data into ascending order\n",
    "from scipy import stats\n",
    "plt.figure(figsize=(10, 6))\n",
    "stats.probplot(hist_data, dist=stats.norm, plot=plt)\n",
    "plt.show()"
   ]
  },
  {
   "cell_type": "markdown",
   "id": "afacfc43",
   "metadata": {},
   "source": [
    "We can observe that the data is not normally distributed"
   ]
  },
  {
   "cell_type": "code",
   "execution_count": 43,
   "id": "6c177cb5",
   "metadata": {},
   "outputs": [
    {
     "data": {
      "text/plain": [
       "NormaltestResult(statistic=0.8664434328230234, pvalue=0.6484167112399293)"
      ]
     },
     "execution_count": 43,
     "metadata": {},
     "output_type": "execute_result"
    }
   ],
   "source": [
    "stats.normaltest(hist_data)"
   ]
  },
  {
   "cell_type": "markdown",
   "id": "e3f84a65",
   "metadata": {},
   "source": [
    "p-value is less than 0.05, Hence the data is not normally distributed "
   ]
  },
  {
   "cell_type": "code",
   "execution_count": 44,
   "id": "08edc0cc",
   "metadata": {},
   "outputs": [],
   "source": [
    "### define the Cp index (basically provide us the information of potential variability)\n",
    "\n",
    "x=hist_data\n",
    "def Cp(x,usl,lsl):\n",
    "    sigma = x.std()\n",
    "    Cp = (usl-lsl)/(6*sigma)\n",
    "    return Cp"
   ]
  },
  {
   "cell_type": "code",
   "execution_count": 45,
   "id": "53a6a0c7",
   "metadata": {},
   "outputs": [],
   "source": [
    "### define the Cpk index\n",
    "\n",
    "def Cpk(x,usl,lsl):\n",
    "    sigma=x.std()\n",
    "    m=x.mean()\n",
    "    Cpu = (usl-m)/(3*sigma)\n",
    "    Cpl = (m-lsl)/(3*sigma)\n",
    "    Cpk = np.min([Cpu,Cpl])\n",
    "    return Cpu,Cpl,Cpk\n"
   ]
  },
  {
   "cell_type": "code",
   "execution_count": 46,
   "id": "7c50b8be",
   "metadata": {},
   "outputs": [],
   "source": [
    "### Define the specification limits\n",
    "\n",
    "usl = 25\n",
    "lsl= -25"
   ]
  },
  {
   "cell_type": "code",
   "execution_count": 47,
   "id": "b5a847a7",
   "metadata": {},
   "outputs": [
    {
     "name": "stdout",
     "output_type": "stream",
     "text": [
      "Cp is:  1.3628960339735146\n"
     ]
    }
   ],
   "source": [
    "### calculate the Cp value\n",
    "\n",
    "Cp=Cp(x,usl,lsl)\n",
    "print(\"Cp is: \",Cp)"
   ]
  },
  {
   "cell_type": "markdown",
   "id": "bdbf9e3f",
   "metadata": {},
   "source": [
    "* From the Cp value we can say that process is capable. That means the variation that was allowed by the customer so our process is producing the lesser variation against the allowed variation."
   ]
  },
  {
   "cell_type": "code",
   "execution_count": 48,
   "id": "2a425c15",
   "metadata": {},
   "outputs": [
    {
     "name": "stdout",
     "output_type": "stream",
     "text": [
      "Cpu is:  1.3225543113678986\n",
      "Cpl is:  1.4032377565791305\n",
      "Cpk is:  1.3225543113678986\n"
     ]
    }
   ],
   "source": [
    "# Cpk value\n",
    "\n",
    "Cpu=Cpk(x,usl,lsl)[0]\n",
    "Cpl=Cpk(x,usl,lsl)[1]\n",
    "Cpk=Cpk(x,usl,lsl)[2]\n",
    "print(\"Cpu is: \",Cpu)\n",
    "print(\"Cpl is: \",Cpl)\n",
    "print(\"Cpk is: \",Cpk)\n"
   ]
  },
  {
   "cell_type": "markdown",
   "id": "c8a2d99a",
   "metadata": {},
   "source": [
    "* In order to understand whether it is sifting towards the upper specification or lower specificaton we need to check the value of Cpl and Cpu.\n",
    "\n",
    "* The value of Cpk=1.3225 Cpu =1.3225 and Cpl = 1.4032. From these values Cpu value is lower compared to Cpl. That means Cpk is equal to Cpu.\n",
    "\n",
    "* Cp and Cpk values are not equal that means we are not hitting the target. That is indicating that from Cpk value and Cpu value our process mean is shifting towards the upper specification limit.\n"
   ]
  },
  {
   "cell_type": "markdown",
   "id": "0e983c2d",
   "metadata": {},
   "source": [
    "* R chart"
   ]
  },
  {
   "cell_type": "code",
   "execution_count": 49,
   "id": "cd29111e",
   "metadata": {},
   "outputs": [
    {
     "data": {
      "text/plain": [
       "9.76"
      ]
     },
     "execution_count": 49,
     "metadata": {},
     "output_type": "execute_result"
    }
   ],
   "source": [
    "### r chart\n",
    "Ri_bar=df['Ri'].sum()/25\n",
    "Ri_bar"
   ]
  },
  {
   "cell_type": "code",
   "execution_count": 50,
   "id": "77114d91",
   "metadata": {},
   "outputs": [],
   "source": [
    "D4=2.28\n",
    "D3=0\n",
    "uclr=D4*Ri_bar\n",
    "lclr=D3*Ri_bar"
   ]
  },
  {
   "cell_type": "code",
   "execution_count": 51,
   "id": "0f4fcf20",
   "metadata": {},
   "outputs": [
    {
     "data": {
      "text/plain": [
       "22.252799999999997"
      ]
     },
     "execution_count": 51,
     "metadata": {},
     "output_type": "execute_result"
    }
   ],
   "source": [
    "uclr"
   ]
  },
  {
   "cell_type": "code",
   "execution_count": 52,
   "id": "f9b7e1d9",
   "metadata": {},
   "outputs": [
    {
     "data": {
      "text/plain": [
       "0.0"
      ]
     },
     "execution_count": 52,
     "metadata": {},
     "output_type": "execute_result"
    }
   ],
   "source": [
    "lclr"
   ]
  },
  {
   "cell_type": "code",
   "execution_count": 53,
   "id": "e5cf7037",
   "metadata": {},
   "outputs": [
    {
     "data": {
      "text/plain": [
       "<matplotlib.lines.Line2D at 0x21994f2e940>"
      ]
     },
     "execution_count": 53,
     "metadata": {},
     "output_type": "execute_result"
    },
    {
     "data": {
      "image/png": "[encoded data removed]",
      "text/plain": [
       "<Figure size 1080x648 with 1 Axes>"
      ]
     },
     "metadata": {
      "needs_background": "light"
     },
     "output_type": "display_data"
    }
   ],
   "source": [
    "plt.figure(figsize=(15,9))\n",
    "plt.title('R bar chart')\n",
    "plt.plot(range(len(df.Ri)), df.Ri ,'go-')\n",
    "plt.axhline(y=uclr, color='b', linestyle='-')\n",
    "plt.axhline(y=lclr, color='b', linestyle='-')\n",
    "plt.axhline(y=Ri_bar, color='r', linestyle='-') "
   ]
  },
  {
   "cell_type": "markdown",
   "id": "ec271d71",
   "metadata": {},
   "source": [
    "* X_bar chart"
   ]
  },
  {
   "cell_type": "code",
   "execution_count": 54,
   "id": "3f32120e",
   "metadata": {},
   "outputs": [
    {
     "data": {
      "text/plain": [
       "0.74"
      ]
     },
     "execution_count": 54,
     "metadata": {},
     "output_type": "execute_result"
    }
   ],
   "source": [
    "### x_bar chart\n",
    "Xi_bar_bar=df['Xi_bar'].sum()/25\n",
    "Xi_bar_bar"
   ]
  },
  {
   "cell_type": "code",
   "execution_count": 55,
   "id": "3212fb9c",
   "metadata": {},
   "outputs": [],
   "source": [
    "A2=0.73\n",
    "uclx=Xi_bar_bar+A2*Ri_bar\n",
    "lclx=Xi_bar_bar-A2*Ri_bar"
   ]
  },
  {
   "cell_type": "code",
   "execution_count": 56,
   "id": "d24c1ee7",
   "metadata": {},
   "outputs": [
    {
     "data": {
      "text/plain": [
       "7.8648"
      ]
     },
     "execution_count": 56,
     "metadata": {},
     "output_type": "execute_result"
    }
   ],
   "source": [
    "uclx"
   ]
  },
  {
   "cell_type": "code",
   "execution_count": 57,
   "id": "21e49cd0",
   "metadata": {},
   "outputs": [
    {
     "data": {
      "text/plain": [
       "-6.384799999999999"
      ]
     },
     "execution_count": 57,
     "metadata": {},
     "output_type": "execute_result"
    }
   ],
   "source": [
    "lclx"
   ]
  },
  {
   "cell_type": "code",
   "execution_count": 58,
   "id": "c19890a4",
   "metadata": {},
   "outputs": [
    {
     "data": {
      "text/plain": [
       "<matplotlib.lines.Line2D at 0x219948e5550>"
      ]
     },
     "execution_count": 58,
     "metadata": {},
     "output_type": "execute_result"
    },
    {
     "data": {
      "image/png": "[encoded data removed]",
      "text/plain": [
       "<Figure size 1440x648 with 1 Axes>"
      ]
     },
     "metadata": {
      "needs_background": "light"
     },
     "output_type": "display_data"
    }
   ],
   "source": [
    "plt.figure(figsize=(20,9))\n",
    "plt.title('X-bar chart')\n",
    "plt.plot(range(len(df.Xi_bar)), df.Xi_bar ,'go-' )\n",
    "plt.axhline(y=uclx, color='b', linestyle='-')\n",
    "plt.axhline(y=lclx, color='b', linestyle='-')\n",
    "plt.axhline(y=Xi_bar_bar, color='r', linestyle='-')\n"
   ]
  },
  {
   "cell_type": "code",
   "execution_count": 59,
   "id": "3d3949c0",
   "metadata": {},
   "outputs": [
    {
     "data": {
      "text/html": [
       "<div>\n",
       "<style scoped>\n",
       "    .dataframe tbody tr th:only-of-type {\n",
       "        vertical-align: middle;\n",
       "    }\n",
       "\n",
       "    .dataframe tbody tr th {\n",
       "        vertical-align: top;\n",
       "    }\n",
       "\n",
       "    .dataframe thead th {\n",
       "        text-align: right;\n",
       "    }\n",
       "</style>\n",
       "<table border=\"1\" class=\"dataframe\">\n",
       "  <thead>\n",
       "    <tr style=\"text-align: right;\">\n",
       "      <th></th>\n",
       "      <th>subgroup</th>\n",
       "      <th>1</th>\n",
       "      <th>2</th>\n",
       "      <th>3</th>\n",
       "      <th>4</th>\n",
       "      <th>Xi_bar</th>\n",
       "      <th>Ri</th>\n",
       "    </tr>\n",
       "  </thead>\n",
       "  <tbody>\n",
       "    <tr>\n",
       "      <th>14</th>\n",
       "      <td>15</td>\n",
       "      <td>6</td>\n",
       "      <td>16</td>\n",
       "      <td>10</td>\n",
       "      <td>18</td>\n",
       "      <td>12.5</td>\n",
       "      <td>12</td>\n",
       "    </tr>\n",
       "  </tbody>\n",
       "</table>\n",
       "</div>"
      ],
      "text/plain": [
       "    subgroup  1   2   3   4  Xi_bar  Ri\n",
       "14        15  6  16  10  18    12.5  12"
      ]
     },
     "execution_count": 59,
     "metadata": {},
     "output_type": "execute_result"
    }
   ],
   "source": [
    "### find the point that is out of control and drop it\n",
    "out=df[df['Xi_bar'] > uclx]\n",
    "out"
   ]
  },
  {
   "cell_type": "code",
   "execution_count": 60,
   "id": "e048ee17",
   "metadata": {},
   "outputs": [],
   "source": [
    "df.drop(index=14,inplace=True)"
   ]
  },
  {
   "cell_type": "code",
   "execution_count": 61,
   "id": "be2cbd3c",
   "metadata": {},
   "outputs": [
    {
     "data": {
      "text/plain": [
       "0.24"
      ]
     },
     "execution_count": 61,
     "metadata": {},
     "output_type": "execute_result"
    }
   ],
   "source": [
    "### x_bar chart\n",
    "Xi_bar_bar=df['Xi_bar'].sum()/25\n",
    "Xi_bar_bar"
   ]
  },
  {
   "cell_type": "code",
   "execution_count": 62,
   "id": "7abcb9cb",
   "metadata": {},
   "outputs": [],
   "source": [
    "A2=0.73\n",
    "uclx=Xi_bar_bar+A2*Ri_bar\n",
    "lclx=Xi_bar_bar-A2*Ri_bar"
   ]
  },
  {
   "cell_type": "code",
   "execution_count": 63,
   "id": "00d91e10",
   "metadata": {},
   "outputs": [
    {
     "data": {
      "text/plain": [
       "7.3648"
      ]
     },
     "execution_count": 63,
     "metadata": {},
     "output_type": "execute_result"
    }
   ],
   "source": [
    "uclx"
   ]
  },
  {
   "cell_type": "code",
   "execution_count": 64,
   "id": "abfaf67a",
   "metadata": {},
   "outputs": [
    {
     "data": {
      "text/plain": [
       "-6.884799999999999"
      ]
     },
     "execution_count": 64,
     "metadata": {},
     "output_type": "execute_result"
    }
   ],
   "source": [
    "lclx"
   ]
  },
  {
   "cell_type": "code",
   "execution_count": 65,
   "id": "03dd8226",
   "metadata": {},
   "outputs": [
    {
     "data": {
      "text/plain": [
       "<matplotlib.lines.Line2D at 0x21994f44c70>"
      ]
     },
     "execution_count": 65,
     "metadata": {},
     "output_type": "execute_result"
    },
    {
     "data": {
      "image/png": "[encoded data removed]",
      "text/plain": [
       "<Figure size 1080x360 with 1 Axes>"
      ]
     },
     "metadata": {
      "needs_background": "light"
     },
     "output_type": "display_data"
    }
   ],
   "source": [
    "plt.figure(figsize=(15,5))\n",
    "plt.title('X-bar chart')\n",
    "plt.plot(range(len(df.Xi_bar)), df.Xi_bar ,'go-' )\n",
    "plt.axhline(y=uclx, color='b', linestyle='-')\n",
    "plt.axhline(y=lclx, color='b', linestyle='-')\n",
    "plt.axhline(y=Xi_bar_bar, color='r', linestyle='-')"
   ]
  },
  {
   "cell_type": "code",
   "execution_count": null,
   "id": "8e23d603",
   "metadata": {},
   "outputs": [],
   "source": []
  },
  {
   "cell_type": "code",
   "execution_count": null,
   "id": "82312553",
   "metadata": {},
   "outputs": [],
   "source": []
  }
 ],
 "metadata": {
  "kernelspec": {
   "display_name": "Python 3",
   "language": "python",
   "name": "python3"
  },
  "language_info": {
   "codemirror_mode": {
    "name": "ipython",
    "version": 3
   },
   "file_extension": ".py",
   "mimetype": "text/x-python",
   "name": "python",
   "nbconvert_exporter": "python",
   "pygments_lexer": "ipython3",
   "version": "3.8.8"
  }
 },
 "nbformat": 4,
 "nbformat_minor": 5
}
