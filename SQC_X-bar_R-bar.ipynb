{
 "cells": [
  {
   "cell_type": "code",
   "execution_count": 1,
   "id": "5d4fa13b",
   "metadata": {},
   "outputs": [],
   "source": [
    "import pandas as pd\n",
    "import numpy as np\n",
    "import matplotlib.pyplot as plt\n",
    "import seaborn as sns"
   ]
  },
  {
   "cell_type": "markdown",
   "id": "81b398f4",
   "metadata": {},
   "source": [
    "* 1_layer thickness "
   ]
  },
  {
   "cell_type": "code",
   "execution_count": 63,
   "id": "1426ff26",
   "metadata": {},
   "outputs": [
    {
     "data": {
      "text/html": [
       "<div>\n",
       "<style scoped>\n",
       "    .dataframe tbody tr th:only-of-type {\n",
       "        vertical-align: middle;\n",
       "    }\n",
       "\n",
       "    .dataframe tbody tr th {\n",
       "        vertical-align: top;\n",
       "    }\n",
       "\n",
       "    .dataframe thead th {\n",
       "        text-align: right;\n",
       "    }\n",
       "</style>\n",
       "<table border=\"1\" class=\"dataframe\">\n",
       "  <thead>\n",
       "    <tr style=\"text-align: right;\">\n",
       "      <th></th>\n",
       "      <th>x1</th>\n",
       "      <th>x2</th>\n",
       "      <th>x3</th>\n",
       "      <th>x4</th>\n",
       "    </tr>\n",
       "  </thead>\n",
       "  <tbody>\n",
       "    <tr>\n",
       "      <th>0</th>\n",
       "      <td>459</td>\n",
       "      <td>449</td>\n",
       "      <td>435</td>\n",
       "      <td>450</td>\n",
       "    </tr>\n",
       "    <tr>\n",
       "      <th>1</th>\n",
       "      <td>443</td>\n",
       "      <td>440</td>\n",
       "      <td>442</td>\n",
       "      <td>442</td>\n",
       "    </tr>\n",
       "    <tr>\n",
       "      <th>2</th>\n",
       "      <td>457</td>\n",
       "      <td>444</td>\n",
       "      <td>449</td>\n",
       "      <td>444</td>\n",
       "    </tr>\n",
       "    <tr>\n",
       "      <th>3</th>\n",
       "      <td>469</td>\n",
       "      <td>463</td>\n",
       "      <td>453</td>\n",
       "      <td>438</td>\n",
       "    </tr>\n",
       "    <tr>\n",
       "      <th>4</th>\n",
       "      <td>443</td>\n",
       "      <td>457</td>\n",
       "      <td>445</td>\n",
       "      <td>454</td>\n",
       "    </tr>\n",
       "    <tr>\n",
       "      <th>5</th>\n",
       "      <td>444</td>\n",
       "      <td>456</td>\n",
       "      <td>456</td>\n",
       "      <td>457</td>\n",
       "    </tr>\n",
       "    <tr>\n",
       "      <th>6</th>\n",
       "      <td>445</td>\n",
       "      <td>449</td>\n",
       "      <td>450</td>\n",
       "      <td>445</td>\n",
       "    </tr>\n",
       "    <tr>\n",
       "      <th>7</th>\n",
       "      <td>446</td>\n",
       "      <td>455</td>\n",
       "      <td>449</td>\n",
       "      <td>452</td>\n",
       "    </tr>\n",
       "    <tr>\n",
       "      <th>8</th>\n",
       "      <td>444</td>\n",
       "      <td>452</td>\n",
       "      <td>457</td>\n",
       "      <td>440</td>\n",
       "    </tr>\n",
       "    <tr>\n",
       "      <th>9</th>\n",
       "      <td>432</td>\n",
       "      <td>463</td>\n",
       "      <td>463</td>\n",
       "      <td>443</td>\n",
       "    </tr>\n",
       "    <tr>\n",
       "      <th>10</th>\n",
       "      <td>445</td>\n",
       "      <td>452</td>\n",
       "      <td>453</td>\n",
       "      <td>438</td>\n",
       "    </tr>\n",
       "    <tr>\n",
       "      <th>11</th>\n",
       "      <td>456</td>\n",
       "      <td>457</td>\n",
       "      <td>436</td>\n",
       "      <td>457</td>\n",
       "    </tr>\n",
       "    <tr>\n",
       "      <th>12</th>\n",
       "      <td>459</td>\n",
       "      <td>445</td>\n",
       "      <td>441</td>\n",
       "      <td>447</td>\n",
       "    </tr>\n",
       "    <tr>\n",
       "      <th>13</th>\n",
       "      <td>441</td>\n",
       "      <td>465</td>\n",
       "      <td>438</td>\n",
       "      <td>450</td>\n",
       "    </tr>\n",
       "    <tr>\n",
       "      <th>14</th>\n",
       "      <td>460</td>\n",
       "      <td>453</td>\n",
       "      <td>457</td>\n",
       "      <td>438</td>\n",
       "    </tr>\n",
       "    <tr>\n",
       "      <th>15</th>\n",
       "      <td>453</td>\n",
       "      <td>444</td>\n",
       "      <td>451</td>\n",
       "      <td>435</td>\n",
       "    </tr>\n",
       "    <tr>\n",
       "      <th>16</th>\n",
       "      <td>451</td>\n",
       "      <td>460</td>\n",
       "      <td>450</td>\n",
       "      <td>457</td>\n",
       "    </tr>\n",
       "    <tr>\n",
       "      <th>17</th>\n",
       "      <td>422</td>\n",
       "      <td>431</td>\n",
       "      <td>437</td>\n",
       "      <td>429</td>\n",
       "    </tr>\n",
       "    <tr>\n",
       "      <th>18</th>\n",
       "      <td>444</td>\n",
       "      <td>446</td>\n",
       "      <td>448</td>\n",
       "      <td>467</td>\n",
       "    </tr>\n",
       "    <tr>\n",
       "      <th>19</th>\n",
       "      <td>450</td>\n",
       "      <td>450</td>\n",
       "      <td>454</td>\n",
       "      <td>454</td>\n",
       "    </tr>\n",
       "  </tbody>\n",
       "</table>\n",
       "</div>"
      ],
      "text/plain": [
       "     x1   x2   x3   x4\n",
       "0   459  449  435  450\n",
       "1   443  440  442  442\n",
       "2   457  444  449  444\n",
       "3   469  463  453  438\n",
       "4   443  457  445  454\n",
       "5   444  456  456  457\n",
       "6   445  449  450  445\n",
       "7   446  455  449  452\n",
       "8   444  452  457  440\n",
       "9   432  463  463  443\n",
       "10  445  452  453  438\n",
       "11  456  457  436  457\n",
       "12  459  445  441  447\n",
       "13  441  465  438  450\n",
       "14  460  453  457  438\n",
       "15  453  444  451  435\n",
       "16  451  460  450  457\n",
       "17  422  431  437  429\n",
       "18  444  446  448  467\n",
       "19  450  450  454  454"
      ]
     },
     "execution_count": 63,
     "metadata": {},
     "output_type": "execute_result"
    }
   ],
   "source": [
    "layer=pd.read_csv(\"C:\\\\Users\\\\Lenovo\\\\OneDrive\\\\Desktop\\\\layer.csv\")\n",
    "layer"
   ]
  },
  {
   "cell_type": "code",
   "execution_count": 64,
   "id": "b03c9308",
   "metadata": {},
   "outputs": [
    {
     "data": {
      "text/plain": [
       "x1    448.15\n",
       "x2    451.55\n",
       "x3    448.20\n",
       "x4    446.85\n",
       "dtype: float64"
      ]
     },
     "execution_count": 64,
     "metadata": {},
     "output_type": "execute_result"
    }
   ],
   "source": [
    "layer.mean()"
   ]
  },
  {
   "cell_type": "code",
   "execution_count": 65,
   "id": "49e4fbf6",
   "metadata": {},
   "outputs": [
    {
     "data": {
      "text/plain": [
       "x1    10.539525\n",
       "x2     8.482024\n",
       "x3     7.891368\n",
       "x4     9.331751\n",
       "dtype: float64"
      ]
     },
     "execution_count": 65,
     "metadata": {},
     "output_type": "execute_result"
    }
   ],
   "source": [
    "layer.std()"
   ]
  },
  {
   "cell_type": "code",
   "execution_count": 66,
   "id": "ffb0f39d",
   "metadata": {},
   "outputs": [
    {
     "data": {
      "text/plain": [
       "0     448.25\n",
       "1     441.75\n",
       "2     448.50\n",
       "3     455.75\n",
       "4     449.75\n",
       "5     453.25\n",
       "6     447.25\n",
       "7     450.50\n",
       "8     448.25\n",
       "9     450.25\n",
       "10    447.00\n",
       "11    451.50\n",
       "12    448.00\n",
       "13    448.50\n",
       "14    452.00\n",
       "15    445.75\n",
       "16    454.50\n",
       "17    429.75\n",
       "18    451.25\n",
       "19    452.00\n",
       "Name: x_bar, dtype: float64"
      ]
     },
     "execution_count": 66,
     "metadata": {},
     "output_type": "execute_result"
    }
   ],
   "source": [
    "layer['x_bar'] = pd.DataFrame([layer.iloc[i, 0:4].mean() for i in range(0,20)])\n",
    "layer['x_bar']   "
   ]
  },
  {
   "cell_type": "code",
   "execution_count": 67,
   "id": "7461d997",
   "metadata": {},
   "outputs": [
    {
     "data": {
      "text/plain": [
       "0     24.0\n",
       "1      3.0\n",
       "2     13.0\n",
       "3     31.0\n",
       "4     14.0\n",
       "5     13.0\n",
       "6      5.0\n",
       "7      9.0\n",
       "8     17.0\n",
       "9     31.0\n",
       "10    15.0\n",
       "11    21.0\n",
       "12    18.0\n",
       "13    27.0\n",
       "14    22.0\n",
       "15    18.0\n",
       "16    10.0\n",
       "17    15.0\n",
       "18    23.0\n",
       "19     4.0\n",
       "Name: range_r, dtype: float64"
      ]
     },
     "execution_count": 67,
     "metadata": {},
     "output_type": "execute_result"
    }
   ],
   "source": [
    "layer['range_r'] = pd.DataFrame([(layer.iloc[i, 0:4].max()- layer.iloc[i, 0:4].min()) for i in range(0,20)])\n",
    "layer['range_r']"
   ]
  },
  {
   "cell_type": "code",
   "execution_count": 68,
   "id": "698101d4",
   "metadata": {},
   "outputs": [
    {
     "data": {
      "text/html": [
       "<div>\n",
       "<style scoped>\n",
       "    .dataframe tbody tr th:only-of-type {\n",
       "        vertical-align: middle;\n",
       "    }\n",
       "\n",
       "    .dataframe tbody tr th {\n",
       "        vertical-align: top;\n",
       "    }\n",
       "\n",
       "    .dataframe thead th {\n",
       "        text-align: right;\n",
       "    }\n",
       "</style>\n",
       "<table border=\"1\" class=\"dataframe\">\n",
       "  <thead>\n",
       "    <tr style=\"text-align: right;\">\n",
       "      <th></th>\n",
       "      <th>x1</th>\n",
       "      <th>x2</th>\n",
       "      <th>x3</th>\n",
       "      <th>x4</th>\n",
       "      <th>x_bar</th>\n",
       "      <th>range_r</th>\n",
       "    </tr>\n",
       "  </thead>\n",
       "  <tbody>\n",
       "    <tr>\n",
       "      <th>0</th>\n",
       "      <td>459</td>\n",
       "      <td>449</td>\n",
       "      <td>435</td>\n",
       "      <td>450</td>\n",
       "      <td>448.25</td>\n",
       "      <td>24.0</td>\n",
       "    </tr>\n",
       "    <tr>\n",
       "      <th>1</th>\n",
       "      <td>443</td>\n",
       "      <td>440</td>\n",
       "      <td>442</td>\n",
       "      <td>442</td>\n",
       "      <td>441.75</td>\n",
       "      <td>3.0</td>\n",
       "    </tr>\n",
       "    <tr>\n",
       "      <th>2</th>\n",
       "      <td>457</td>\n",
       "      <td>444</td>\n",
       "      <td>449</td>\n",
       "      <td>444</td>\n",
       "      <td>448.50</td>\n",
       "      <td>13.0</td>\n",
       "    </tr>\n",
       "    <tr>\n",
       "      <th>3</th>\n",
       "      <td>469</td>\n",
       "      <td>463</td>\n",
       "      <td>453</td>\n",
       "      <td>438</td>\n",
       "      <td>455.75</td>\n",
       "      <td>31.0</td>\n",
       "    </tr>\n",
       "    <tr>\n",
       "      <th>4</th>\n",
       "      <td>443</td>\n",
       "      <td>457</td>\n",
       "      <td>445</td>\n",
       "      <td>454</td>\n",
       "      <td>449.75</td>\n",
       "      <td>14.0</td>\n",
       "    </tr>\n",
       "  </tbody>\n",
       "</table>\n",
       "</div>"
      ],
      "text/plain": [
       "    x1   x2   x3   x4   x_bar  range_r\n",
       "0  459  449  435  450  448.25     24.0\n",
       "1  443  440  442  442  441.75      3.0\n",
       "2  457  444  449  444  448.50     13.0\n",
       "3  469  463  453  438  455.75     31.0\n",
       "4  443  457  445  454  449.75     14.0"
      ]
     },
     "execution_count": 68,
     "metadata": {},
     "output_type": "execute_result"
    }
   ],
   "source": [
    "layer.head()"
   ]
  },
  {
   "cell_type": "markdown",
   "id": "39449736",
   "metadata": {},
   "source": [
    "R_bar chart"
   ]
  },
  {
   "cell_type": "code",
   "execution_count": 69,
   "id": "65e166d1",
   "metadata": {},
   "outputs": [
    {
     "data": {
      "text/plain": [
       "16.65"
      ]
     },
     "execution_count": 69,
     "metadata": {},
     "output_type": "execute_result"
    }
   ],
   "source": [
    "r_bar = layer.range_r.mean()\n",
    "r_bar"
   ]
  },
  {
   "cell_type": "code",
   "execution_count": 70,
   "id": "41607dc1",
   "metadata": {},
   "outputs": [],
   "source": [
    "d3=0\n",
    "d4 = 2.283 \n",
    "UCLr = d4 * r_bar\n",
    "LCLr = d3 * r_bar"
   ]
  },
  {
   "cell_type": "code",
   "execution_count": 71,
   "id": "05c80b6c",
   "metadata": {},
   "outputs": [
    {
     "data": {
      "text/plain": [
       "38.01195"
      ]
     },
     "execution_count": 71,
     "metadata": {},
     "output_type": "execute_result"
    }
   ],
   "source": [
    "UCLr"
   ]
  },
  {
   "cell_type": "code",
   "execution_count": 72,
   "id": "1bfc09c6",
   "metadata": {},
   "outputs": [
    {
     "data": {
      "text/plain": [
       "0.0"
      ]
     },
     "execution_count": 72,
     "metadata": {},
     "output_type": "execute_result"
    }
   ],
   "source": [
    "LCLr"
   ]
  },
  {
   "cell_type": "code",
   "execution_count": 78,
   "id": "b4dfbffa",
   "metadata": {},
   "outputs": [
    {
     "data": {
      "text/plain": [
       "<matplotlib.lines.Line2D at 0x2b6faabaeb0>"
      ]
     },
     "execution_count": 78,
     "metadata": {},
     "output_type": "execute_result"
    },
    {
     "data": {
      "image/png": "[encoded data removed]",
      "text/plain": [
       "<Figure size 1080x648 with 1 Axes>"
      ]
     },
     "metadata": {
      "needs_background": "light"
     },
     "output_type": "display_data"
    }
   ],
   "source": [
    "plt.figure(figsize=(15,9))\n",
    "plt.title('R bar chart')\n",
    "plt.plot(range(len(layer.range_r)), layer.range_r ,'go-')\n",
    "plt.axhline(y=UCLr, color='b', linestyle='-')\n",
    "plt.axhline(y=LCLr, color='b', linestyle='-')\n",
    "plt.axhline(y=r_bar, color='r', linestyle='-') "
   ]
  },
  {
   "cell_type": "markdown",
   "id": "11d1741b",
   "metadata": {},
   "source": [
    "X-bar chart"
   ]
  },
  {
   "cell_type": "code",
   "execution_count": 74,
   "id": "1db5cfae",
   "metadata": {},
   "outputs": [],
   "source": [
    "x_bar_bar = layer.x_bar.mean()\n",
    "a2 = 0.729 \n",
    "UCLx = x_bar_bar + a2 * r_bar\n",
    "LCLx = x_bar_bar - a2 * r_bar"
   ]
  },
  {
   "cell_type": "code",
   "execution_count": 75,
   "id": "aabad327",
   "metadata": {},
   "outputs": [
    {
     "data": {
      "text/plain": [
       "460.82535"
      ]
     },
     "execution_count": 75,
     "metadata": {},
     "output_type": "execute_result"
    }
   ],
   "source": [
    "UCLx"
   ]
  },
  {
   "cell_type": "code",
   "execution_count": 76,
   "id": "3afadebb",
   "metadata": {},
   "outputs": [
    {
     "data": {
      "text/plain": [
       "436.54965"
      ]
     },
     "execution_count": 76,
     "metadata": {},
     "output_type": "execute_result"
    }
   ],
   "source": [
    "LCLx"
   ]
  },
  {
   "cell_type": "code",
   "execution_count": 77,
   "id": "40326e3a",
   "metadata": {},
   "outputs": [
    {
     "data": {
      "text/plain": [
       "<matplotlib.lines.Line2D at 0x2b6faa587f0>"
      ]
     },
     "execution_count": 77,
     "metadata": {},
     "output_type": "execute_result"
    },
    {
     "data": {
      "image/png": "[encoded data removed]",
      "text/plain": [
       "<Figure size 1080x648 with 1 Axes>"
      ]
     },
     "metadata": {
      "needs_background": "light"
     },
     "output_type": "display_data"
    }
   ],
   "source": [
    "plt.figure(figsize=(15,9))\n",
    "plt.title('X-bar chart')\n",
    "plt.plot(range(len(layer.x_bar)), layer.x_bar ,'go-' )\n",
    "plt.axhline(y=UCLx, color='b', linestyle='-')\n",
    "plt.axhline(y=LCLx, color='b', linestyle='-')\n",
    "plt.axhline(y=x_bar_bar, color='r', linestyle='-')\n"
   ]
  },
  {
   "cell_type": "markdown",
   "id": "a908563c",
   "metadata": {},
   "source": [
    "* It is out of control so we need to do two phase"
   ]
  },
  {
   "cell_type": "code",
   "execution_count": 58,
   "id": "bda84db9",
   "metadata": {},
   "outputs": [
    {
     "data": {
      "text/html": [
       "<div>\n",
       "<style scoped>\n",
       "    .dataframe tbody tr th:only-of-type {\n",
       "        vertical-align: middle;\n",
       "    }\n",
       "\n",
       "    .dataframe tbody tr th {\n",
       "        vertical-align: top;\n",
       "    }\n",
       "\n",
       "    .dataframe thead th {\n",
       "        text-align: right;\n",
       "    }\n",
       "</style>\n",
       "<table border=\"1\" class=\"dataframe\">\n",
       "  <thead>\n",
       "    <tr style=\"text-align: right;\">\n",
       "      <th></th>\n",
       "      <th>x1</th>\n",
       "      <th>x2</th>\n",
       "      <th>x3</th>\n",
       "      <th>x4</th>\n",
       "      <th>x_bar</th>\n",
       "      <th>range_r</th>\n",
       "    </tr>\n",
       "  </thead>\n",
       "  <tbody>\n",
       "    <tr>\n",
       "      <th>17</th>\n",
       "      <td>422</td>\n",
       "      <td>431</td>\n",
       "      <td>437</td>\n",
       "      <td>429</td>\n",
       "      <td>429.75</td>\n",
       "      <td>15.0</td>\n",
       "    </tr>\n",
       "  </tbody>\n",
       "</table>\n",
       "</div>"
      ],
      "text/plain": [
       "     x1   x2   x3   x4   x_bar  range_r\n",
       "17  422  431  437  429  429.75     15.0"
      ]
     },
     "execution_count": 58,
     "metadata": {},
     "output_type": "execute_result"
    }
   ],
   "source": [
    "### find the point that is out of control and drop it\n",
    "out=layer[layer['x_bar'] < LCLx]\n",
    "out\n"
   ]
  },
  {
   "cell_type": "code",
   "execution_count": 80,
   "id": "0bac5ab2",
   "metadata": {},
   "outputs": [],
   "source": [
    "layer.drop(index=17,inplace=True)"
   ]
  },
  {
   "cell_type": "code",
   "execution_count": 81,
   "id": "8c6e2cce",
   "metadata": {},
   "outputs": [
    {
     "data": {
      "text/plain": [
       "<matplotlib.lines.Line2D at 0x2b6fab98af0>"
      ]
     },
     "execution_count": 81,
     "metadata": {},
     "output_type": "execute_result"
    },
    {
     "data": {
      "image/png": "[encoded data removed]",
      "text/plain": [
       "<Figure size 1080x648 with 1 Axes>"
      ]
     },
     "metadata": {
      "needs_background": "light"
     },
     "output_type": "display_data"
    }
   ],
   "source": [
    "### New column of the x_bar \n",
    "layer['x_bar']=pd.DataFrame([layer.iloc[i,0:4].mean() for i in range(0,19)])\n",
    "### x_bar chart upper control limit and lower controll limit\n",
    "x_bar_bar=layer.x_bar.mean()\n",
    "UCLx=x_bar_bar + a2 * r_bar\n",
    "LCLx=x_bar_bar - a2 * r_bar\n",
    "\n",
    "### ploting the result\n",
    "plt.figure(figsize=(15,9))\n",
    "plt.title('x-bar chart')\n",
    "plt.plot(range(len(layer.x_bar)),layer.x_bar,'go-')\n",
    "plt.axhline(y=UCLx, color='b', linestyle='-')\n",
    "plt.axhline(y=LCLx, color='b', linestyle='-')\n",
    "plt.axhline(y=x_bar_bar, color='r', linestyle='-')"
   ]
  },
  {
   "cell_type": "markdown",
   "id": "b55a4bef",
   "metadata": {},
   "source": [
    "### Estimate the mean and standard deviation"
   ]
  },
  {
   "cell_type": "code",
   "execution_count": 42,
   "id": "06e61385",
   "metadata": {},
   "outputs": [],
   "source": [
    "import math"
   ]
  },
  {
   "cell_type": "code",
   "execution_count": 85,
   "id": "5ef49a77",
   "metadata": {},
   "outputs": [
    {
     "name": "stdout",
     "output_type": "stream",
     "text": [
      "The estimated mean is 449.59722222222223\n",
      "The estimated standard deviation is 153.07426849207124\n"
     ]
    }
   ],
   "source": [
    "mean_est=x_bar_bar\n",
    "row=layer.index.size\n",
    "calc_std=lambda col,mean: sum([(col[i]-mean)**2 for i in col.index])\n",
    "std_estimated=lambda*a: math.sqrt(sum(a)/len(a)*row)\n",
    "\n",
    "sum_x1=calc_std(layer['x1'],mean_est)\n",
    "sum_x2=calc_std(layer['x2'],mean_est)\n",
    "sum_x3=calc_std(layer['x3'],mean_est)\n",
    "sum_x4=calc_std(layer['x4'],mean_est)\n",
    "\n",
    "std_estimated = std_estimated(sum_x1,sum_x2,sum_x3,sum_x4)\n",
    "print(\"The estimated mean is\",mean_est)\n",
    "print(\"The estimated standard deviation is\", std_estimated)"
   ]
  },
  {
   "cell_type": "markdown",
   "id": "d526f225",
   "metadata": {},
   "source": []
  },
  {
   "cell_type": "code",
   "execution_count": null,
   "id": "cf58a7a6",
   "metadata": {},
   "outputs": [],
   "source": []
  },
  {
   "cell_type": "markdown",
   "id": "2ec20ddf",
   "metadata": {},
   "source": [
    "* 2_fill heights \n"
   ]
  },
  {
   "cell_type": "code",
   "execution_count": 87,
   "id": "8b00be22",
   "metadata": {},
   "outputs": [
    {
     "data": {
      "text/html": [
       "<div>\n",
       "<style scoped>\n",
       "    .dataframe tbody tr th:only-of-type {\n",
       "        vertical-align: middle;\n",
       "    }\n",
       "\n",
       "    .dataframe tbody tr th {\n",
       "        vertical-align: top;\n",
       "    }\n",
       "\n",
       "    .dataframe thead th {\n",
       "        text-align: right;\n",
       "    }\n",
       "</style>\n",
       "<table border=\"1\" class=\"dataframe\">\n",
       "  <thead>\n",
       "    <tr style=\"text-align: right;\">\n",
       "      <th></th>\n",
       "      <th>x1</th>\n",
       "      <th>x2</th>\n",
       "      <th>x3</th>\n",
       "      <th>x4</th>\n",
       "      <th>x5</th>\n",
       "      <th>x6</th>\n",
       "      <th>x7</th>\n",
       "      <th>x8</th>\n",
       "      <th>x9</th>\n",
       "      <th>x10</th>\n",
       "    </tr>\n",
       "  </thead>\n",
       "  <tbody>\n",
       "    <tr>\n",
       "      <th>0</th>\n",
       "      <td>2.5</td>\n",
       "      <td>0.5</td>\n",
       "      <td>2.0</td>\n",
       "      <td>-1.0</td>\n",
       "      <td>1.0</td>\n",
       "      <td>-1.0</td>\n",
       "      <td>0.5</td>\n",
       "      <td>1.5</td>\n",
       "      <td>0.5</td>\n",
       "      <td>-1.5</td>\n",
       "    </tr>\n",
       "    <tr>\n",
       "      <th>1</th>\n",
       "      <td>0.0</td>\n",
       "      <td>0.0</td>\n",
       "      <td>0.5</td>\n",
       "      <td>1.0</td>\n",
       "      <td>1.5</td>\n",
       "      <td>1.0</td>\n",
       "      <td>-1.0</td>\n",
       "      <td>1.0</td>\n",
       "      <td>1.5</td>\n",
       "      <td>-1.0</td>\n",
       "    </tr>\n",
       "    <tr>\n",
       "      <th>2</th>\n",
       "      <td>1.5</td>\n",
       "      <td>1.0</td>\n",
       "      <td>1.0</td>\n",
       "      <td>-1.0</td>\n",
       "      <td>0.0</td>\n",
       "      <td>-1.5</td>\n",
       "      <td>-1.0</td>\n",
       "      <td>-1.0</td>\n",
       "      <td>1.0</td>\n",
       "      <td>-1.0</td>\n",
       "    </tr>\n",
       "    <tr>\n",
       "      <th>3</th>\n",
       "      <td>0.0</td>\n",
       "      <td>0.5</td>\n",
       "      <td>-2.0</td>\n",
       "      <td>0.0</td>\n",
       "      <td>-1.0</td>\n",
       "      <td>1.5</td>\n",
       "      <td>-1.5</td>\n",
       "      <td>0.0</td>\n",
       "      <td>-2.0</td>\n",
       "      <td>-1.5</td>\n",
       "    </tr>\n",
       "    <tr>\n",
       "      <th>4</th>\n",
       "      <td>0.0</td>\n",
       "      <td>0.0</td>\n",
       "      <td>0.0</td>\n",
       "      <td>-0.5</td>\n",
       "      <td>0.5</td>\n",
       "      <td>1.0</td>\n",
       "      <td>-0.5</td>\n",
       "      <td>-0.5</td>\n",
       "      <td>0.0</td>\n",
       "      <td>0.0</td>\n",
       "    </tr>\n",
       "    <tr>\n",
       "      <th>5</th>\n",
       "      <td>1.0</td>\n",
       "      <td>-0.5</td>\n",
       "      <td>0.0</td>\n",
       "      <td>0.0</td>\n",
       "      <td>0.0</td>\n",
       "      <td>0.5</td>\n",
       "      <td>-1.0</td>\n",
       "      <td>1.0</td>\n",
       "      <td>-2.0</td>\n",
       "      <td>1.0</td>\n",
       "    </tr>\n",
       "    <tr>\n",
       "      <th>6</th>\n",
       "      <td>1.0</td>\n",
       "      <td>-1.0</td>\n",
       "      <td>-1.0</td>\n",
       "      <td>-1.0</td>\n",
       "      <td>0.0</td>\n",
       "      <td>1.5</td>\n",
       "      <td>0.0</td>\n",
       "      <td>1.0</td>\n",
       "      <td>0.0</td>\n",
       "      <td>0.0</td>\n",
       "    </tr>\n",
       "    <tr>\n",
       "      <th>7</th>\n",
       "      <td>0.0</td>\n",
       "      <td>-1.5</td>\n",
       "      <td>-0.5</td>\n",
       "      <td>1.5</td>\n",
       "      <td>0.0</td>\n",
       "      <td>0.0</td>\n",
       "      <td>0.0</td>\n",
       "      <td>-1.0</td>\n",
       "      <td>0.5</td>\n",
       "      <td>-0.5</td>\n",
       "    </tr>\n",
       "    <tr>\n",
       "      <th>8</th>\n",
       "      <td>-2.0</td>\n",
       "      <td>-1.5</td>\n",
       "      <td>1.5</td>\n",
       "      <td>1.5</td>\n",
       "      <td>0.0</td>\n",
       "      <td>0.0</td>\n",
       "      <td>0.5</td>\n",
       "      <td>1.0</td>\n",
       "      <td>0.0</td>\n",
       "      <td>1.0</td>\n",
       "    </tr>\n",
       "    <tr>\n",
       "      <th>9</th>\n",
       "      <td>-0.5</td>\n",
       "      <td>3.5</td>\n",
       "      <td>0.0</td>\n",
       "      <td>-1.0</td>\n",
       "      <td>-1.5</td>\n",
       "      <td>-1.5</td>\n",
       "      <td>-1.0</td>\n",
       "      <td>-1.0</td>\n",
       "      <td>1.0</td>\n",
       "      <td>0.5</td>\n",
       "    </tr>\n",
       "    <tr>\n",
       "      <th>10</th>\n",
       "      <td>0.0</td>\n",
       "      <td>1.5</td>\n",
       "      <td>0.0</td>\n",
       "      <td>0.0</td>\n",
       "      <td>2.0</td>\n",
       "      <td>-1.5</td>\n",
       "      <td>0.5</td>\n",
       "      <td>-0.5</td>\n",
       "      <td>2.0</td>\n",
       "      <td>-1.0</td>\n",
       "    </tr>\n",
       "    <tr>\n",
       "      <th>11</th>\n",
       "      <td>0.0</td>\n",
       "      <td>-2.0</td>\n",
       "      <td>-0.5</td>\n",
       "      <td>0.0</td>\n",
       "      <td>-0.5</td>\n",
       "      <td>2.0</td>\n",
       "      <td>1.5</td>\n",
       "      <td>0.0</td>\n",
       "      <td>0.5</td>\n",
       "      <td>-1.0</td>\n",
       "    </tr>\n",
       "    <tr>\n",
       "      <th>12</th>\n",
       "      <td>-1.0</td>\n",
       "      <td>-0.5</td>\n",
       "      <td>-0.5</td>\n",
       "      <td>-1.0</td>\n",
       "      <td>0.0</td>\n",
       "      <td>0.5</td>\n",
       "      <td>0.5</td>\n",
       "      <td>-1.5</td>\n",
       "      <td>-1.0</td>\n",
       "      <td>-1.0</td>\n",
       "    </tr>\n",
       "    <tr>\n",
       "      <th>13</th>\n",
       "      <td>0.5</td>\n",
       "      <td>1.0</td>\n",
       "      <td>-1.0</td>\n",
       "      <td>-0.5</td>\n",
       "      <td>-2.0</td>\n",
       "      <td>-1.0</td>\n",
       "      <td>-1.5</td>\n",
       "      <td>0.0</td>\n",
       "      <td>1.5</td>\n",
       "      <td>1.5</td>\n",
       "    </tr>\n",
       "    <tr>\n",
       "      <th>14</th>\n",
       "      <td>1.0</td>\n",
       "      <td>0.0</td>\n",
       "      <td>1.5</td>\n",
       "      <td>1.5</td>\n",
       "      <td>1.0</td>\n",
       "      <td>-1.0</td>\n",
       "      <td>0.0</td>\n",
       "      <td>1.0</td>\n",
       "      <td>-2.0</td>\n",
       "      <td>-1.5</td>\n",
       "    </tr>\n",
       "  </tbody>\n",
       "</table>\n",
       "</div>"
      ],
      "text/plain": [
       "     x1   x2   x3   x4   x5   x6   x7   x8   x9  x10\n",
       "0   2.5  0.5  2.0 -1.0  1.0 -1.0  0.5  1.5  0.5 -1.5\n",
       "1   0.0  0.0  0.5  1.0  1.5  1.0 -1.0  1.0  1.5 -1.0\n",
       "2   1.5  1.0  1.0 -1.0  0.0 -1.5 -1.0 -1.0  1.0 -1.0\n",
       "3   0.0  0.5 -2.0  0.0 -1.0  1.5 -1.5  0.0 -2.0 -1.5\n",
       "4   0.0  0.0  0.0 -0.5  0.5  1.0 -0.5 -0.5  0.0  0.0\n",
       "5   1.0 -0.5  0.0  0.0  0.0  0.5 -1.0  1.0 -2.0  1.0\n",
       "6   1.0 -1.0 -1.0 -1.0  0.0  1.5  0.0  1.0  0.0  0.0\n",
       "7   0.0 -1.5 -0.5  1.5  0.0  0.0  0.0 -1.0  0.5 -0.5\n",
       "8  -2.0 -1.5  1.5  1.5  0.0  0.0  0.5  1.0  0.0  1.0\n",
       "9  -0.5  3.5  0.0 -1.0 -1.5 -1.5 -1.0 -1.0  1.0  0.5\n",
       "10  0.0  1.5  0.0  0.0  2.0 -1.5  0.5 -0.5  2.0 -1.0\n",
       "11  0.0 -2.0 -0.5  0.0 -0.5  2.0  1.5  0.0  0.5 -1.0\n",
       "12 -1.0 -0.5 -0.5 -1.0  0.0  0.5  0.5 -1.5 -1.0 -1.0\n",
       "13  0.5  1.0 -1.0 -0.5 -2.0 -1.0 -1.5  0.0  1.5  1.5\n",
       "14  1.0  0.0  1.5  1.5  1.0 -1.0  0.0  1.0 -2.0 -1.5"
      ]
     },
     "execution_count": 87,
     "metadata": {},
     "output_type": "execute_result"
    }
   ],
   "source": [
    "### 2\n",
    "\n",
    "fill_heights=pd.read_csv(\"C:\\\\Users\\\\Lenovo\\\\OneDrive\\\\Desktop\\\\fill_heights.csv\")\n",
    "fill_heights "
   ]
  },
  {
   "cell_type": "code",
   "execution_count": 88,
   "id": "24c064a3",
   "metadata": {},
   "outputs": [
    {
     "data": {
      "text/plain": [
       "x1     0.266667\n",
       "x2     0.066667\n",
       "x3     0.066667\n",
       "x4    -0.033333\n",
       "x5     0.066667\n",
       "x6     0.033333\n",
       "x7    -0.266667\n",
       "x8     0.066667\n",
       "x9     0.100000\n",
       "x10   -0.400000\n",
       "dtype: float64"
      ]
     },
     "execution_count": 88,
     "metadata": {},
     "output_type": "execute_result"
    }
   ],
   "source": [
    "fill_heights.mean()"
   ]
  },
  {
   "cell_type": "code",
   "execution_count": 89,
   "id": "8508a49c",
   "metadata": {},
   "outputs": [
    {
     "data": {
      "text/plain": [
       "x1     1.066815\n",
       "x2     1.387015\n",
       "x3     1.083425\n",
       "x4     0.972234\n",
       "x5     1.066815\n",
       "x6     1.216944\n",
       "x7     0.883715\n",
       "x8     0.961150\n",
       "x9     1.312032\n",
       "x10    1.003565\n",
       "dtype: float64"
      ]
     },
     "execution_count": 89,
     "metadata": {},
     "output_type": "execute_result"
    }
   ],
   "source": [
    "fill_heights.std()"
   ]
  },
  {
   "cell_type": "code",
   "execution_count": 90,
   "id": "98a1ca2f",
   "metadata": {},
   "outputs": [
    {
     "data": {
      "text/plain": [
       "0     0.50\n",
       "1     0.45\n",
       "2    -0.10\n",
       "3    -0.60\n",
       "4     0.00\n",
       "5     0.00\n",
       "6     0.05\n",
       "7    -0.15\n",
       "8     0.20\n",
       "9    -0.15\n",
       "10    0.30\n",
       "11    0.00\n",
       "12   -0.55\n",
       "13   -0.15\n",
       "14    0.15\n",
       "Name: x_bar, dtype: float64"
      ]
     },
     "execution_count": 90,
     "metadata": {},
     "output_type": "execute_result"
    }
   ],
   "source": [
    "fill_heights ['x_bar'] = pd.DataFrame([fill_heights .iloc[i, 0:10].mean() for i in range(0,15)])\n",
    "fill_heights ['x_bar']"
   ]
  },
  {
   "cell_type": "code",
   "execution_count": 91,
   "id": "2164114d",
   "metadata": {},
   "outputs": [
    {
     "data": {
      "text/plain": [
       "0     4.0\n",
       "1     2.5\n",
       "2     3.0\n",
       "3     3.5\n",
       "4     1.5\n",
       "5     3.0\n",
       "6     2.5\n",
       "7     3.0\n",
       "8     3.5\n",
       "9     5.0\n",
       "10    3.5\n",
       "11    4.0\n",
       "12    2.0\n",
       "13    3.5\n",
       "14    3.5\n",
       "Name: range_r, dtype: float64"
      ]
     },
     "execution_count": 91,
     "metadata": {},
     "output_type": "execute_result"
    }
   ],
   "source": [
    "fill_heights ['range_r'] = pd.DataFrame([(fill_heights .iloc[i, 0:10].max()- fill_heights .iloc[i, 0:10].min()) for i in range(0,15)])\n",
    "fill_heights ['range_r']"
   ]
  },
  {
   "cell_type": "code",
   "execution_count": 92,
   "id": "8ed263f4",
   "metadata": {},
   "outputs": [
    {
     "data": {
      "text/html": [
       "<div>\n",
       "<style scoped>\n",
       "    .dataframe tbody tr th:only-of-type {\n",
       "        vertical-align: middle;\n",
       "    }\n",
       "\n",
       "    .dataframe tbody tr th {\n",
       "        vertical-align: top;\n",
       "    }\n",
       "\n",
       "    .dataframe thead th {\n",
       "        text-align: right;\n",
       "    }\n",
       "</style>\n",
       "<table border=\"1\" class=\"dataframe\">\n",
       "  <thead>\n",
       "    <tr style=\"text-align: right;\">\n",
       "      <th></th>\n",
       "      <th>x1</th>\n",
       "      <th>x2</th>\n",
       "      <th>x3</th>\n",
       "      <th>x4</th>\n",
       "      <th>x5</th>\n",
       "      <th>x6</th>\n",
       "      <th>x7</th>\n",
       "      <th>x8</th>\n",
       "      <th>x9</th>\n",
       "      <th>x10</th>\n",
       "      <th>x_bar</th>\n",
       "      <th>range_r</th>\n",
       "    </tr>\n",
       "  </thead>\n",
       "  <tbody>\n",
       "    <tr>\n",
       "      <th>0</th>\n",
       "      <td>2.5</td>\n",
       "      <td>0.5</td>\n",
       "      <td>2.0</td>\n",
       "      <td>-1.0</td>\n",
       "      <td>1.0</td>\n",
       "      <td>-1.0</td>\n",
       "      <td>0.5</td>\n",
       "      <td>1.5</td>\n",
       "      <td>0.5</td>\n",
       "      <td>-1.5</td>\n",
       "      <td>0.50</td>\n",
       "      <td>4.0</td>\n",
       "    </tr>\n",
       "    <tr>\n",
       "      <th>1</th>\n",
       "      <td>0.0</td>\n",
       "      <td>0.0</td>\n",
       "      <td>0.5</td>\n",
       "      <td>1.0</td>\n",
       "      <td>1.5</td>\n",
       "      <td>1.0</td>\n",
       "      <td>-1.0</td>\n",
       "      <td>1.0</td>\n",
       "      <td>1.5</td>\n",
       "      <td>-1.0</td>\n",
       "      <td>0.45</td>\n",
       "      <td>2.5</td>\n",
       "    </tr>\n",
       "    <tr>\n",
       "      <th>2</th>\n",
       "      <td>1.5</td>\n",
       "      <td>1.0</td>\n",
       "      <td>1.0</td>\n",
       "      <td>-1.0</td>\n",
       "      <td>0.0</td>\n",
       "      <td>-1.5</td>\n",
       "      <td>-1.0</td>\n",
       "      <td>-1.0</td>\n",
       "      <td>1.0</td>\n",
       "      <td>-1.0</td>\n",
       "      <td>-0.10</td>\n",
       "      <td>3.0</td>\n",
       "    </tr>\n",
       "    <tr>\n",
       "      <th>3</th>\n",
       "      <td>0.0</td>\n",
       "      <td>0.5</td>\n",
       "      <td>-2.0</td>\n",
       "      <td>0.0</td>\n",
       "      <td>-1.0</td>\n",
       "      <td>1.5</td>\n",
       "      <td>-1.5</td>\n",
       "      <td>0.0</td>\n",
       "      <td>-2.0</td>\n",
       "      <td>-1.5</td>\n",
       "      <td>-0.60</td>\n",
       "      <td>3.5</td>\n",
       "    </tr>\n",
       "    <tr>\n",
       "      <th>4</th>\n",
       "      <td>0.0</td>\n",
       "      <td>0.0</td>\n",
       "      <td>0.0</td>\n",
       "      <td>-0.5</td>\n",
       "      <td>0.5</td>\n",
       "      <td>1.0</td>\n",
       "      <td>-0.5</td>\n",
       "      <td>-0.5</td>\n",
       "      <td>0.0</td>\n",
       "      <td>0.0</td>\n",
       "      <td>0.00</td>\n",
       "      <td>1.5</td>\n",
       "    </tr>\n",
       "  </tbody>\n",
       "</table>\n",
       "</div>"
      ],
      "text/plain": [
       "    x1   x2   x3   x4   x5   x6   x7   x8   x9  x10  x_bar  range_r\n",
       "0  2.5  0.5  2.0 -1.0  1.0 -1.0  0.5  1.5  0.5 -1.5   0.50      4.0\n",
       "1  0.0  0.0  0.5  1.0  1.5  1.0 -1.0  1.0  1.5 -1.0   0.45      2.5\n",
       "2  1.5  1.0  1.0 -1.0  0.0 -1.5 -1.0 -1.0  1.0 -1.0  -0.10      3.0\n",
       "3  0.0  0.5 -2.0  0.0 -1.0  1.5 -1.5  0.0 -2.0 -1.5  -0.60      3.5\n",
       "4  0.0  0.0  0.0 -0.5  0.5  1.0 -0.5 -0.5  0.0  0.0   0.00      1.5"
      ]
     },
     "execution_count": 92,
     "metadata": {},
     "output_type": "execute_result"
    }
   ],
   "source": [
    "fill_heights.head()"
   ]
  },
  {
   "cell_type": "markdown",
   "id": "6029b90c",
   "metadata": {},
   "source": [
    "* R-bar"
   ]
  },
  {
   "cell_type": "code",
   "execution_count": 93,
   "id": "052da623",
   "metadata": {},
   "outputs": [
    {
     "data": {
      "text/plain": [
       "3.2"
      ]
     },
     "execution_count": 93,
     "metadata": {},
     "output_type": "execute_result"
    }
   ],
   "source": [
    "r_bar = fill_heights.range_r.mean()\n",
    "r_bar"
   ]
  },
  {
   "cell_type": "code",
   "execution_count": 94,
   "id": "c9d7e48e",
   "metadata": {},
   "outputs": [],
   "source": [
    "d3=0.223\n",
    "d4 = 1.777\n",
    "UCLr = d4 * r_bar\n",
    "LCLr = d3 * r_bar"
   ]
  },
  {
   "cell_type": "code",
   "execution_count": 95,
   "id": "a59f44f4",
   "metadata": {},
   "outputs": [
    {
     "data": {
      "text/plain": [
       "5.6864"
      ]
     },
     "execution_count": 95,
     "metadata": {},
     "output_type": "execute_result"
    }
   ],
   "source": [
    "UCLr"
   ]
  },
  {
   "cell_type": "code",
   "execution_count": 96,
   "id": "950b786d",
   "metadata": {},
   "outputs": [
    {
     "data": {
      "text/plain": [
       "0.7136"
      ]
     },
     "execution_count": 96,
     "metadata": {},
     "output_type": "execute_result"
    }
   ],
   "source": [
    "LCLr"
   ]
  },
  {
   "cell_type": "code",
   "execution_count": 97,
   "id": "96858ee4",
   "metadata": {},
   "outputs": [
    {
     "data": {
      "text/plain": [
       "<matplotlib.lines.Line2D at 0x2b6fad1a9d0>"
      ]
     },
     "execution_count": 97,
     "metadata": {},
     "output_type": "execute_result"
    },
    {
     "data": {
      "image/png": "[encoded data removed]",
      "text/plain": [
       "<Figure size 864x432 with 1 Axes>"
      ]
     },
     "metadata": {
      "needs_background": "light"
     },
     "output_type": "display_data"
    }
   ],
   "source": [
    "plt.figure(figsize=(12,6))\n",
    "plt.title('R bar chart')\n",
    "plt.plot(range(len(fill_heights.range_r)), fill_heights.range_r ,'go-')\n",
    "plt.axhline(y=UCLr, color='b', linestyle='-')\n",
    "plt.axhline(y=LCLr, color='b', linestyle='-')\n",
    "plt.axhline(y=r_bar, color='r', linestyle='-') "
   ]
  },
  {
   "cell_type": "markdown",
   "id": "9787d0f7",
   "metadata": {},
   "source": [
    "X-bar chart"
   ]
  },
  {
   "cell_type": "code",
   "execution_count": 98,
   "id": "bc269aa9",
   "metadata": {},
   "outputs": [],
   "source": [
    "x_bar_bar = fill_heights.x_bar.mean()\n",
    "a2 = 0.308 \n",
    "UCLx = x_bar_bar + a2 * r_bar\n",
    "LCLx = x_bar_bar - a2 * r_bar"
   ]
  },
  {
   "cell_type": "code",
   "execution_count": 99,
   "id": "34e7b296",
   "metadata": {},
   "outputs": [
    {
     "data": {
      "text/plain": [
       "5.6864"
      ]
     },
     "execution_count": 99,
     "metadata": {},
     "output_type": "execute_result"
    }
   ],
   "source": [
    "UCLr"
   ]
  },
  {
   "cell_type": "code",
   "execution_count": 100,
   "id": "18fcf3bb",
   "metadata": {},
   "outputs": [
    {
     "data": {
      "text/plain": [
       "0.7136"
      ]
     },
     "execution_count": 100,
     "metadata": {},
     "output_type": "execute_result"
    }
   ],
   "source": [
    "LCLr"
   ]
  },
  {
   "cell_type": "code",
   "execution_count": 101,
   "id": "36639beb",
   "metadata": {},
   "outputs": [
    {
     "data": {
      "text/plain": [
       "<matplotlib.lines.Line2D at 0x2b6fad83580>"
      ]
     },
     "execution_count": 101,
     "metadata": {},
     "output_type": "execute_result"
    },
    {
     "data": {
      "image/png": "[encoded data removed]",
      "text/plain": [
       "<Figure size 864x432 with 1 Axes>"
      ]
     },
     "metadata": {
      "needs_background": "light"
     },
     "output_type": "display_data"
    }
   ],
   "source": [
    "plt.figure(figsize=(12,6))\n",
    "plt.title('X-bar chart')\n",
    "plt.plot(range(len(fill_heights.x_bar)), fill_heights.x_bar ,'go-' )\n",
    "plt.axhline(y=UCLx, color='b', linestyle='-')\n",
    "plt.axhline(y=LCLx, color='b', linestyle='-')\n",
    "plt.axhline(y=x_bar_bar, color='r', linestyle='-')"
   ]
  },
  {
   "cell_type": "code",
   "execution_count": 102,
   "id": "88d67d44",
   "metadata": {},
   "outputs": [
    {
     "name": "stdout",
     "output_type": "stream",
     "text": [
      "The estimated mean is -0.003333333333333336\n",
      "The estimated standard deviation is 18.29950363625564\n"
     ]
    }
   ],
   "source": [
    "mean_est=x_bar_bar\n",
    "row=layer.index.size\n",
    "calc_std=lambda col,mean: sum([(col[i]-mean)**2 for i in col.index])\n",
    "std_estimated=lambda*a: math.sqrt(sum(a)/len(a)*row)\n",
    "\n",
    "sum_x1=calc_std(fill_heights ['x1'],mean_est)\n",
    "sum_x2=calc_std(fill_heights ['x2'],mean_est)\n",
    "sum_x3=calc_std(fill_heights ['x3'],mean_est)\n",
    "sum_x4=calc_std(fill_heights ['x4'],mean_est)\n",
    "sum_x5=calc_std(fill_heights ['x5'],mean_est)\n",
    "sum_x6=calc_std(fill_heights ['x6'],mean_est)\n",
    "sum_x7=calc_std(fill_heights ['x7'],mean_est)\n",
    "sum_x8=calc_std(fill_heights ['x8'],mean_est)\n",
    "sum_x9=calc_std(fill_heights ['x9'],mean_est)\n",
    "sum_x10=calc_std(fill_heights['x10'],mean_est)\n",
    "\n",
    "std_estimated = std_estimated(sum_x1,sum_x2,sum_x3,sum_x4,sum_x5,sum_x6,sum_x7,sum_x8,sum_x9,sum_x10)\n",
    "print(\"The estimated mean is\",mean_est)\n",
    "print(\"The estimated standard deviation is\", std_estimated)"
   ]
  },
  {
   "cell_type": "code",
   "execution_count": null,
   "id": "413da26e",
   "metadata": {},
   "outputs": [],
   "source": []
  }
 ],
 "metadata": {
  "kernelspec": {
   "display_name": "Python 3",
   "language": "python",
   "name": "python3"
  },
  "language_info": {
   "codemirror_mode": {
    "name": "ipython",
    "version": 3
   },
   "file_extension": ".py",
   "mimetype": "text/x-python",
   "name": "python",
   "nbconvert_exporter": "python",
   "pygments_lexer": "ipython3",
   "version": "3.8.8"
  }
 },
 "nbformat": 4,
 "nbformat_minor": 5
}
